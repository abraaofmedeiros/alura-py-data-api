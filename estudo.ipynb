{
 "cells": [
  {
   "cell_type": "code",
   "execution_count": null,
   "id": "f35bff65",
   "metadata": {},
   "outputs": [],
   "source": [
    "import requests"
   ]
  },
  {
   "cell_type": "markdown",
   "id": "dd0ae4a5",
   "metadata": {},
   "source": [
    "Script de ETL Repositórios"
   ]
  },
  {
   "cell_type": "code",
   "execution_count": null,
   "id": "7958d4e7",
   "metadata": {},
   "outputs": [],
   "source": [
    "def get_github_user_data(username):\n",
    "    data = []\n",
    "    try:\n",
    "        r = requests.get(f\"https://api.github.com/users/{username}\")\n",
    "    \n",
    "        print(f\"Status code: {r.status_code}\")\n",
    "        print(f\"Conteúdo da requisição: {r.json()}\")\n",
    "        print(f\"URL da requisição: {r.url}\")\n",
    "\n",
    "        if(r.status_code == 200):\n",
    "            data = r.json()\n",
    "\n",
    "            print(f\"Nome: {data['name']}\")\n",
    "            print(f\"Nome de usuário: {data['login']}\")\n",
    "            print(f\"Número de repositórios públicos: {data['public_repos']}\")\n",
    "            print(f\"Data de criação da conta no Github: {data['created_at']}\")\n",
    "    \n",
    "    except Exception as e:\n",
    "        print(f\"{type(e)} - Erro: {e}\")\n",
    "        \n",
    "    finally:\n",
    "        print(\"Consulta finalizada...\")\n",
    "        return data"
   ]
  },
  {
   "cell_type": "code",
   "execution_count": null,
   "id": "bc729273",
   "metadata": {},
   "outputs": [],
   "source": [
    "username = \"abraaofmedeiros\"\n",
    "\n",
    "user_data = get_github_user_data(username)"
   ]
  },
  {
   "cell_type": "markdown",
   "id": "077a98bc",
   "metadata": {},
   "source": [
    "Extração"
   ]
  },
  {
   "cell_type": "code",
   "execution_count": null,
   "id": "6eb71433",
   "metadata": {},
   "outputs": [],
   "source": [
    "from utils.dados_repos import DadosRepositorios, Repositorio\n",
    "from utils.load_config import *"
   ]
  },
  {
   "cell_type": "code",
   "execution_count": null,
   "id": "d0de6d9d",
   "metadata": {},
   "outputs": [],
   "source": [
    "load_config()\n",
    "access_token = os.getenv(\"ACCESS_TOKEN\")\n",
    "username = os.getenv(\"USERNAME\")"
   ]
  },
  {
   "cell_type": "code",
   "execution_count": null,
   "id": "d0a506eb",
   "metadata": {},
   "outputs": [],
   "source": [
    "dados_rep = DadosRepositorios('amzn', access_token)"
   ]
  },
  {
   "cell_type": "markdown",
   "id": "7fb38254",
   "metadata": {},
   "source": [
    "Transformação"
   ]
  },
  {
   "cell_type": "code",
   "execution_count": null,
   "id": "ae5cfcd5",
   "metadata": {},
   "outputs": [],
   "source": [
    "df_nomes_linguagens_repos = dados_rep.criar_df_nomes_linguagens_repos()"
   ]
  },
  {
   "cell_type": "markdown",
   "id": "6fd0d345",
   "metadata": {},
   "source": [
    "Loading"
   ]
  },
  {
   "cell_type": "code",
   "execution_count": null,
   "id": "0681f0c3",
   "metadata": {},
   "outputs": [],
   "source": [
    "path = \"dados/amazon.csv\"\n",
    "DadosRepositorios.df_to_csv(df_nomes_linguagens_repos, path)"
   ]
  },
  {
   "cell_type": "code",
   "execution_count": null,
   "id": "e57fd684",
   "metadata": {},
   "outputs": [],
   "source": [
    "username = 'abraaofmedeiros'\n",
    "repository_name = 'linguagens_utilizadas'\n",
    "description = 'Repositório com as linguagens de programação da Amazon'\n",
    "\n",
    "new_rep = Repositorio(username, access_token, repository_name, description)"
   ]
  },
  {
   "cell_type": "code",
   "execution_count": null,
   "id": "537c9ccb",
   "metadata": {},
   "outputs": [],
   "source": [
    "message = 'Adicionando um novo arquivo'\n",
    "filename = 'amazon.csv'\n",
    "\n",
    "new_rep.upload_file(path, filename, message)"
   ]
  }
 ],
 "metadata": {
  "kernelspec": {
   "display_name": ".venv (3.12.3)",
   "language": "python",
   "name": "python3"
  },
  "language_info": {
   "codemirror_mode": {
    "name": "ipython",
    "version": 3
   },
   "file_extension": ".py",
   "mimetype": "text/x-python",
   "name": "python",
   "nbconvert_exporter": "python",
   "pygments_lexer": "ipython3",
   "version": "3.12.3"
  }
 },
 "nbformat": 4,
 "nbformat_minor": 5
}
